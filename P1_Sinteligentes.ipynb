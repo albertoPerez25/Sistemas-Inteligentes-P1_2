{
 "cells": [
  {
   "cell_type": "markdown",
   "metadata": {},
   "source": [
    "# Sistemas Inteligentes\n",
    "\n",
    "## Curso académico 2024-2025\n",
    "\n",
    "### Práctica 1: Búsqueda en espacio de estados\n",
    "\n",
    "#### Grupo 9\n",
    "\n",
    "* Alberto Pérez Álvarez: alberto.perez25@alu.uclm.es\n",
    "* Marcos López Gómez: marcos.lopez14@alu.uclm.es\n"
   ]
  },
  {
   "cell_type": "markdown",
   "metadata": {
    "datalore": {
     "hide_input_from_viewers": false,
     "hide_output_from_viewers": false,
     "node_id": "BJiz7lonyeROocVlcYrKWu",
     "type": "MD"
    }
   },
   "source": [
    "## Estructura de datos\n",
    "Hemos dividido las estructuras de datos en clases, una para cada entidad como se recomienda. Asi tenemos las clases de estructuras básicas Estado, Accion, Problema y Nodo. Además de las básicas, también tenemos las clases Problema, BusquedaNoInformada, BusquedaInformada, Anchura, Profundidad, PrimeroMejor y AEstrella, seguida de otra clase Heuristica para las heuristicas."
   ]
  },
  {
   "cell_type": "markdown",
   "metadata": {},
   "source": [
    "## 0.1 Importaciones\n",
    "Imports necesarios para el código"
   ]
  },
  {
   "cell_type": "code",
   "execution_count": 94,
   "metadata": {},
   "outputs": [],
   "source": [
    "#Clases básicas:\n",
    "import json\n",
    "from math import sqrt\n",
    "\n",
    "#Clase búsqueda\n",
    "from abc import ABC, ABCMeta,abstractmethod\n",
    "import time\n",
    "\n",
    "#Clase heurística\n",
    "from math import sqrt\n",
    "\n",
    "# Busqueda Informada\n",
    "from heapq import heappush, heappop # Para la PriorityQueue\n",
    "\n",
    "#Para el plot:\n",
    "#from pathlib import Path\n",
    "#from plot import plot"
   ]
  },
  {
   "cell_type": "markdown",
   "metadata": {
    "datalore": {
     "hide_input_from_viewers": false,
     "hide_output_from_viewers": false,
     "node_id": "BJiz7lonyeROocVlcYrKWu",
     "type": "MD"
    }
   },
   "source": [
    "## 1. Clases básicas\n",
    "Consideramos básicas las clases Estado, Accion, Problema y Nodo"
   ]
  },
  {
   "cell_type": "markdown",
   "metadata": {},
   "source": [
    "### 1.1. Clase Estado"
   ]
  },
  {
   "cell_type": "markdown",
   "metadata": {},
   "source": [
    "La clase Estado contiene los atributos necesarios para almacenar los datos referentes a la posición de un objeto, así como su identificador y algunos métodos para imprimir un objeto de la clase por pantalla, para comprobar si dos estados son iguales, para comprobar si el identificador se un objeto es menor que el de otro, y para comprobar si el identificador de un objeto es igual a uno introducido por pantalla."
   ]
  },
  {
   "cell_type": "code",
   "execution_count": 95,
   "metadata": {},
   "outputs": [],
   "source": [
    "\n",
    "class Estado:\n",
    "    def __init__(self, id, latitude, longitude):\n",
    "        self.identifier = id\n",
    "        self.latitude = latitude\n",
    "        self.longitude = longitude\n",
    "    def __str__(self):\n",
    "        return f\"Interseccion: (id={self.identifier}, latitud={self.latitude}, longitud={self.longitude})\"\n",
    "    def __repr__(self):\n",
    "        return f\"{self.identifier}\"\n",
    "    def __eq__(self, otro):\n",
    "        if not isinstance(otro, Estado):\n",
    "            return False\n",
    "        else:\n",
    "            return self.identifier == otro.identifier\n",
    "    def __lt__(self, otro):\n",
    "        return self.identifier < otro.identifier\n",
    "    def esId(self, id):\n",
    "        return self.identifier == id"
   ]
  },
  {
   "cell_type": "markdown",
   "metadata": {},
   "source": [
    "### 1.2. Clase Accion"
   ]
  },
  {
   "cell_type": "markdown",
   "metadata": {},
   "source": [
    "La clase Acción contiene los atributos necesarios para almacenar tanto la posición inicial, como la final y el tiempo que se tarda en ir de la posición inicial a la final, así como algunos métodos para imprimir un objeto de la clase por pantalla, para comprobar si dos objetos son iguales, y un método para comprobar si un objeto es menor a otro, que usa el método del mismo nombre de la clase Estado."
   ]
  },
  {
   "cell_type": "code",
   "execution_count": 96,
   "metadata": {},
   "outputs": [],
   "source": [
    "class Accion:\n",
    "    def __init__(self, origin, destination, distance, speed):\n",
    "        self.origin = origin\n",
    "        self.destination = destination\n",
    "    # Dan la velocidad en Km/h y la distancia en m\n",
    "        self.time = (distance/(speed*(10/36))) # Usamos: D->m. T->s y V->m/s\n",
    "    def __str__(self):\n",
    "        return f\"Calle: Origen: {self.origin}, Destino: {self.destination})\"\n",
    "    def __repr__(self):\n",
    "        return f\"{self.origin} → {self.destination} ({self.time})\"\n",
    "    def __eq__(self, otro):\n",
    "        if not isinstance(otro, Accion):\n",
    "            return False\n",
    "        else:\n",
    "            return self.origin == otro.origin and self.destination == otro.destination and self.time == otro.time\n",
    "    def __lt__(self, otro):\n",
    "        return self.destination < otro.destination"
   ]
  },
  {
   "cell_type": "markdown",
   "metadata": {},
   "source": [
    "### 1.3. Clase Problema"
   ]
  },
  {
   "cell_type": "markdown",
   "metadata": {},
   "source": [
    "La clase Problema carga la información de un archivo json, el cual contiene los datos sobre el caso para el que se tiene que encontrar la solución. Esto lo hace mediante su método init, y esos datos los almacena en sus atributos, entre los que se encuentran un diccionario de estados y otro de acciones, la velocidad máxima de entre todos los segmentos, así como el estado inicial y final del problema. La clase Problema también tiene un método para obtener un objeto a partir de su ID, otro para obtener el destino de una acción y otro para obtener todas las accioners de un estado partiea partir de su ID."
   ]
  },
  {
   "cell_type": "code",
   "execution_count": 97,
   "metadata": {},
   "outputs": [],
   "source": [
    "class Problema:   \n",
    "    #Constructor de Problema\n",
    "    def __init__(self,ruta):\n",
    "        with open(ruta, 'r') as file:\n",
    "            self.data = json.load(file)\n",
    "        \n",
    "        self.dic_estados = {}\n",
    "        self.dic_acciones = {}\n",
    "        self.maxSpeed = 0\n",
    "\n",
    "        # Pasamos las intersecciones del JSON a un nuevo diccionario estados\n",
    "        for inter in self.data['intersections']:\n",
    "            self.dic_estados.update({inter['identifier']:(Estado(inter['identifier'], inter['latitude'], inter['longitude']))})         \n",
    "            self.dic_acciones.update({inter['identifier']:[]})  # Acciones = {id:PriorityQueue de Acciones}\n",
    "            \n",
    "        # Cargamos los nodos iniciales y finales del JSON.\n",
    "        self.Inicial = self.dic_estados[self.data[\"initial\"]]\n",
    "        self.Final = self.dic_estados[self.data[\"final\"]]\n",
    "        \n",
    "        # Pasamos los segmentos del JSON a un nuevo diccionario acciones     \n",
    "        for seg in self.data['segments']:\n",
    "            if (seg['speed']*(10/36) > self.maxSpeed):\n",
    "                self.maxSpeed = seg['speed']*(10/36) # km/h -> m/s\n",
    "            accion=Accion(seg['origin'], seg['destination'], seg['distance'], seg['speed'])\n",
    "            heappush(self.dic_acciones[seg['origin']], accion)  # Metemos las acciones de cada Estado en una PriorityQueue\n",
    "\n",
    "    # Obtener un objeto Estado a partir de su ID\n",
    "    def getEstado(self, id):\n",
    "        return self.dic_estados[id]\n",
    "\n",
    "    # Obtener el destino de una Accion\n",
    "    def getDestinoDe(self,accion):\n",
    "        return self.dic_estados[accion.destination]\n",
    "\n",
    "    # Obtener todas las acciones de un estado a partir de su ID\n",
    "    def getAccionesDe(self,id):\n",
    "        return self.dic_acciones[id]"
   ]
  },
  {
   "cell_type": "markdown",
   "metadata": {},
   "source": [
    "### 1.4. Clase Nodo"
   ]
  },
  {
   "cell_type": "markdown",
   "metadata": {},
   "source": [
    "La clase nodo tiene como atributos la intersección en la que se encuentra, el nodo padre, la última acción tomada y por la que estamos en esta intersección, el coste acumulado ewn este nodo, la profundidad del nodo, y el número de nodos a los que se han generado hasta el momento; también contiene algunos métodos para imprimir por pantalla, ver si dos nodos son iguales y comprobar si un nodo es menor que otro."
   ]
  },
  {
   "cell_type": "code",
   "execution_count": 98,
   "metadata": {},
   "outputs": [],
   "source": [
    "class Nodo:\n",
    "    def __init__(self, interseccion, padre = None, accionTomada = None, coste = 0, profundidad = 0, nGenerado = 0):\n",
    "        self.estado = interseccion\n",
    "        self.padre = padre\n",
    "        self.accion = accionTomada\n",
    "        self.coste = coste\n",
    "        self.profundidad = profundidad\n",
    "        self.nGenerado = nGenerado  # El 1º generado deberia empezar en 1 no en 0, pues dijo en clase que   \n",
    "                                    # se deberia contar pero ellos no lo cuentan en sus soluciones, asi que \n",
    "                                    # nosotros tampoco\n",
    "    def __str__(self):\n",
    "        return f\"Nodo(estado={self.estado}, padre={self.padre}, accion={self.accion}, coste={self.coste}, profundidad={self.profundidad})\"\n",
    "    def __repr__(self):\n",
    "        return f\"{self.estado.identifier}\"\n",
    "    def __eq__(self,otro):\n",
    "        if not isinstance(otro, Nodo):\n",
    "            return False\n",
    "        return self.estado.__eq__(otro.estado) and self.nGenerado.__eq__(otro.nGenerado)\n",
    "    def __lt__(self,otro):\n",
    "        return self.estado.__lt__(otro.estado)"
   ]
  },
  {
   "cell_type": "markdown",
   "metadata": {
    "datalore": {
     "hide_input_from_viewers": false,
     "hide_output_from_viewers": false,
     "node_id": "kf129lUYKXkYfl7kIPcDlq",
     "type": "MD"
    }
   },
   "source": [
    "## 2. Clase Busqueda\n",
    "\n",
    "Contiene toda la lógica principal de los algoritmos de busqueda. Es la parte del código común a todos los algoritmos, por lo que es abstracta y faltan por implementar los métodos AñadirNodoAFrontera y ExtraerNodoAFrontera. Estos métodos los implementarán las clases de los tipos de algoritmos pertinentes, que heredarán de esta clase. La clase Búsqueda tiene como atributos a \"frontera\" la cual se utilizará como una heapq, ya que es más rápido que con una PriorityQueue al no prevenir errores de hilos y ya que no se usa concurrencia en esta práctica nos ha parecido mejor opción, \"problema\" que contiene el problema en cuestión, \"tInicio\" y \"tFinal\" que contienen el tiempo en el inicial y final de la ejecución respectivamente, \"cerrados\" que es una lista que contiene nodos ya visitados y \"nodo\" que contiene el nodo actual, y el resto de atributos son para obtener estadísticas al final de la ejecución.\n",
    "\n",
    "La clase Busqueda también tiene otros métodos, como \"busqueda\" que busca nodos en \"frontera\" hasta que esta esté vacía, lo que comprueba mediante el método \"esVacia\" y comprueba si son solución con el método \"testObjetivo\", y si alguno es solución, imprime las acciones que se han llevado a cabo hasta llegar a ese nodo, y devulve la lista de todos los estados por los que se han pasado; si no es solución se comprueba si el nodo no está en \"cerrados\", si no está entonces llama a la función \"expandir\", que obtiene los sucesores de ese nodo llamando a \"añadirNodosAFrontera\" que es un método distinto en cada algoritmo. El resto de métodos son para imprimir las estadísticas."
   ]
  },
  {
   "cell_type": "code",
   "execution_count": 99,
   "metadata": {},
   "outputs": [],
   "source": [
    "class Busqueda(ABC):\n",
    "    def __init__(self, problema):\n",
    "        self.frontera = []  # Declaración igual en todos los algoritmos\n",
    "                            # heapq usa una lista como priority vacia.\n",
    "                            # heapq es algo mas rapido que PriorityQueue al \n",
    "                            # no prevenir errores de hilos. Como no usamos concurrencia \n",
    "                            # de hilos en esta práctica, heapq es ideal\n",
    "                            # https://docs.python.org/3/library/heapq.html\n",
    "                            # https://docs.python.org/3/library/queue.html#queue.PriorityQueue\n",
    "        self.problema = problema\n",
    "        self.tInicio = 0\n",
    "        self.tFinal = 0\n",
    "        self.cerrados = set()        # Para no volver a expandir nodos ya visitados\n",
    "        self.nodo = Nodo(problema.Inicial)\n",
    "        # Estadisticas:\n",
    "        self.nExpandidos = 0\n",
    "        self.nProfundidad = 0\n",
    "        self.nCosteTotal = 0           \n",
    "        self.nGenerados = 0\n",
    "\n",
    "    def expandir(self,nodo,problema):\n",
    "        acciones = problema.getAccionesDe(nodo.estado.identifier)\n",
    "        while acciones:\n",
    "            accion = heappop(acciones)\n",
    "            sucesor = Nodo(problema.getEstado(accion.destination))\n",
    "            sucesor.padre = nodo\n",
    "            sucesor.accion = accion\n",
    "            sucesor.coste = nodo.coste + accion.time\n",
    "            sucesor.profundidad = nodo.profundidad + 1\n",
    "            self.nGenerados = self.nGenerados + 1\n",
    "            sucesor.nGenerado = self.nGenerados\n",
    "            self.añadirNodoAFrontera(sucesor, self.frontera)    # Añadimos los sucesores a frontera.\n",
    "                                                                # Nos ahorramos un bucle For al añadirlos \n",
    "                                                                # desde expandir\n",
    "                                                            \n",
    "    def busqueda(self):\n",
    "        self.tInicio = time.time()\n",
    "        self.añadirNodoAFrontera(self.nodo,self.frontera)\n",
    "        while(not self.esVacia(self.frontera)):\n",
    "            self.nodo = self.extraerNodoDeFrontera(self.frontera)\n",
    "            if (self.testObjetivo(self.nodo)):\n",
    "                self.tFinal = time.time()\n",
    "                return self.listaAcciones(self.nodo)\n",
    "            if (not self.nodo.estado.identifier in self.cerrados):\n",
    "                self.expandir(self.nodo, self.problema)     # Obtenemos los sucesores con Expandir()\n",
    "                self.nExpandidos = self.nExpandidos + 1\n",
    "                self.cerrados.add(self.nodo.estado.identifier)\n",
    "        self.tFinal = time.time()\n",
    "        return self.imprimirResultado([])\n",
    "\n",
    "    def testObjetivo(self,nodo):\n",
    "        return nodo.estado.__eq__(self.problema.Final)\n",
    "\n",
    "    def listaAcciones(self,nodo):\n",
    "        sol = []                         # Lista de acciones que han llevado desde el final al inicial\n",
    "        estados = []                     # Lista de ids de los estados desde el final al inicial\n",
    "        self.nCosteTotal = nodo.coste    # nodo.coste es acumulativo\n",
    "        self.nProfundidad=nodo.profundidad\n",
    "        while (nodo.padre):\n",
    "            sol.append(nodo.accion)\n",
    "            estados.append(nodo.estado.identifier)\n",
    "            nodo = nodo.padre\n",
    "        estados.append(nodo.estado.identifier) # Añadimos el inicial\n",
    "        sol.reverse()                   # Ahora es una lista de acciones desde el inicial al final\n",
    "        self.imprimirResultado(sol)\n",
    "        return estados\n",
    "\n",
    "    def imprimirResultado(self,sol):\n",
    "        if not sol : print(\"Solución no encontrada\")\n",
    "        print(\"Nodos generados:\",self.nGenerados)\n",
    "        print(\"Nodos expandidos:\",self.nExpandidos)\n",
    "        print(\"Tiempo de ejecución:\",(self.formatearTiempo(self.tFinal - self.tInicio)),\"segundos\")\n",
    "        print(\"Profundidad:\",self.nProfundidad)\n",
    "        print(\"Coste de la solución:\",self.formatearTiempo(self.nCosteTotal))\n",
    "        print(\"Solución:\",sol)\n",
    "    \n",
    "    def formatearTiempo(self, tiempo):  # Para imprimir los tiempos como en las soluciones\n",
    "        horas = int(tiempo // 3600)\n",
    "        minutos = int((tiempo % 3600) // 60)\n",
    "        segundos = int(tiempo % 60)\n",
    "        milisegundos = int((tiempo - int(tiempo)) * 1000000)\n",
    "        return f\"{horas:01d}:{minutos:02d}:{segundos:02d}.{milisegundos:06d}\"\n",
    "\n",
    "    def esVacia(self, frontera): # Igual en todos los algoritmos\n",
    "        return len(frontera) == 0\n",
    "\n",
    "    @abstractmethod\n",
    "    def añadirNodoAFrontera(self, nodo, frontera):\n",
    "        pass\n",
    "    @abstractmethod\n",
    "    def extraerNodoDeFrontera(self, frontera):\n",
    "        pass\n"
   ]
  },
  {
   "cell_type": "markdown",
   "metadata": {
    "datalore": {
     "hide_input_from_viewers": false,
     "hide_output_from_viewers": false,
     "node_id": "6gYL6VoT3okFgLpKvyyAq7",
     "type": "MD"
    }
   },
   "source": [
    "## 3. Algoritmos de búsqueda no informada\n",
    "Para este tipo de algoritmos tenemos una clase abstracta que hereda de Búsqueda e implementa los métodos y estructuras comunes a los dos tipos de algoritmos que tenemos de búsqueda no informada (anchura y profundidad en grafos). La clase BusquedaNoInformada tiene un método no abstracto, que es \"añadirNodoAFrontera\", que es es el mismo para busqueda en anchura y en profundidad, que lo que hace es añadir un nodo a la frontera, y tambien tiene un método abstracto que es \"extraerNodoDeFrontera\", es abstracto ya que debe ser diferente en busqueda en anchura y en profundidad."
   ]
  },
  {
   "cell_type": "code",
   "execution_count": 100,
   "metadata": {},
   "outputs": [],
   "source": [
    "class BusquedaNoInformada(Busqueda,metaclass=ABCMeta):\n",
    "    def __init__(self, problema):\n",
    "        super().__init__(problema)\n",
    "        # Frontera se usará como lista de nodos a ser expandidos\n",
    "\n",
    "    def añadirNodoAFrontera(self, nodo, frontera):  # Es igual en Anchura y Profundidad\n",
    "        frontera.append(nodo)\n",
    "\n",
    "    @abstractmethod\n",
    "    def extraerNodoDeFrontera(self, frontera):\n",
    "        pass"
   ]
  },
  {
   "cell_type": "markdown",
   "metadata": {},
   "source": [
    "### 3.1 Algoritmo de anchura en grafos\n"
   ]
  },
  {
   "cell_type": "markdown",
   "metadata": {},
   "source": [
    "La clase Anchura solo tiene el método \"extraerNodoDeFrontera\", ya que el resto de métodos los hereda de su clase padre. Lo que hace este método es coger el primer elemento de \"frontera\"."
   ]
  },
  {
   "cell_type": "code",
   "execution_count": 101,
   "metadata": {},
   "outputs": [],
   "source": [
    "class Anchura(BusquedaNoInformada):\n",
    "    def extraerNodoDeFrontera(self, frontera):\n",
    "        return frontera.pop(0)"
   ]
  },
  {
   "cell_type": "markdown",
   "metadata": {},
   "source": [
    "### 3.2 Algoritmo de profundidad en grafos"
   ]
  },
  {
   "cell_type": "markdown",
   "metadata": {},
   "source": [
    "La clase Profundidad solo tiene el método \"extraerNodoDeFrontera\", ya que al igual que la clase Anchura, los demas métodos los hera de su clase padre. En este caso lo que hace el método es coger el último elemento disponible en \"frontera\"."
   ]
  },
  {
   "cell_type": "code",
   "execution_count": 102,
   "metadata": {},
   "outputs": [],
   "source": [
    "class Profundidad(BusquedaNoInformada):\n",
    "    def extraerNodoDeFrontera(self, frontera):\n",
    "        return frontera.pop()"
   ]
  },
  {
   "cell_type": "markdown",
   "metadata": {
    "datalore": {
     "hide_input_from_viewers": false,
     "hide_output_from_viewers": false,
     "node_id": "XqiqZwKKFJXYVAdvmfoLoK",
     "type": "MD"
    }
   },
   "source": [
    "## 4. Algoritmos de búsqueda informada"
   ]
  },
  {
   "cell_type": "markdown",
   "metadata": {},
   "source": [
    "Para los algoritmos de búsqueda informada tenemos al igual que para los anteriores, una clase abstracta que implementa los métodos y estructuras comunes a los dos tipos de algoritmo de búsqueda informada. En este caso además tenemos una clase abstracta más relacionada, llamada Heurística, de la cual también hereda esta clase. En este caso el método abstracto es \"añadirNodoAFrontera\", ya que este método debe ser diferente en los algoritmos Primero mejor y A*. Sin embargo el método \"extraerNodoDeFrontera\" es el mismo para ambos algoritmos, y lo que hace es simplemente sacar el primer elemento de la frontera."
   ]
  },
  {
   "cell_type": "code",
   "execution_count": 103,
   "metadata": {},
   "outputs": [],
   "source": [
    "class BusquedaInformada(Busqueda,metaclass=ABCMeta):\n",
    "    def __init__(self, problema,heuristica):\n",
    "        super().__init__(problema)\n",
    "        # Frontera se usará como PriorityQueue de nodos a ser expandidos\n",
    "        self.H = heuristica\n",
    "    @abstractmethod\n",
    "    def añadirNodoAFrontera(self, nodo, frontera):\n",
    "        pass\n",
    "\n",
    "    def extraerNodoDeFrontera(self, frontera):  # Igual en PrimeroMejor y AEstrella\n",
    "        return heappop(frontera)[1]             # Sacamos el nodo que toca"
   ]
  },
  {
   "cell_type": "markdown",
   "metadata": {},
   "source": [
    "### 4.1. Primero mejor"
   ]
  },
  {
   "cell_type": "markdown",
   "metadata": {},
   "source": [
    "Al igual que pasaba con las clases de los algoritmos de búsqueda no informada, esta clase solo tiene un método, ya que el resto los hereda de su clase padre. En este caso el método \"añadirNodoAFrontera\" lo que hace es añadir el nodo a \"frontera\", pero como una tupla con la heurística, para que como \"frontera\" es una PriorityQueue, ordene los nodos según esta última."
   ]
  },
  {
   "cell_type": "code",
   "execution_count": 104,
   "metadata": {},
   "outputs": [],
   "source": [
    "class PrimeroMejor(BusquedaInformada):\n",
    "    def añadirNodoAFrontera(self, nodo, frontera):                                                                                                                                                                                                                                 # Una tripla con su heuristica, orden de generación y el propio nodo\n",
    "        heappush(frontera,(self.H.heuristica(nodo),nodo))   # Si la heuristica es igual se elige el de menor id                                                                            "
   ]
  },
  {
   "cell_type": "markdown",
   "metadata": {},
   "source": [
    "### 4.2. A*"
   ]
  },
  {
   "cell_type": "markdown",
   "metadata": {},
   "source": [
    "La clase AEstrella tiene solo el método \"añadirNodoAFrontera\" ya que el resto los herada de su clase padre. Lo que hace este método es añadir una tupla a \"frontera\" compuesta de, primero la suma del coste acumulado del nodo y de la heuristica de ese nodo, para que la PriorityQueue se ordene con respecto a este valor y segundo el nodo en si."
   ]
  },
  {
   "cell_type": "code",
   "execution_count": 105,
   "metadata": {},
   "outputs": [],
   "source": [
    "class AEstrella(BusquedaInformada):\n",
    "    def añadirNodoAFrontera(self, nodo, frontera):\n",
    "        gn = nodo.coste   \n",
    "        hn = self.H.heuristica(nodo)\n",
    "        fn = hn + gn                                                        \n",
    "        heappush(frontera, (fn,  nodo))"
   ]
  },
  {
   "cell_type": "markdown",
   "metadata": {},
   "source": [
    "### 4.3. Heuristica\n",
    "Para la heurística tenemos una clase dedicada abstracta que implementa los métodos comunes a ambas heurísticas y otras dos clases que implementan una de las tres heurísticas en concreto, heredando de la clase abstracta. Lo que cambia entre estas es simplemente la manera de calcular la distancia, entre calcularla en línea recta usando pitágoras (heurística euclidiana), usar la distancia geodésica o calcularla con la distancia de Manhattan."
   ]
  },
  {
   "cell_type": "code",
   "execution_count": 106,
   "metadata": {},
   "outputs": [],
   "source": [
    "class Heuristica(ABC):\n",
    "    def __init__(self,problema):\n",
    "        self.problema = problema\n",
    "    \n",
    "    @abstractmethod\n",
    "    def distancia(self,estado,final):\n",
    "        pass\n",
    "\n",
    "    # Devuelve el tiempo estimado (coste) desde un estado hasta el estado final\n",
    "    def tiempo(self, distancia):\n",
    "        return distancia/self.problema.maxSpeed # D->m V->m/s T->s\n",
    "    \n",
    "    # Metodo al que llamamos para calcular la heurística.\n",
    "    def heuristica(self, nodo):\n",
    "        return self.tiempo(self.distancia(nodo.estado,self.problema.Final))\n",
    "    \n",
    "# Dos maneras de hacer heuristicas calculando distancias\n",
    "class Heuristica1(Heuristica):\n",
    "    # Euclidea. Pitagoras. (Línea recta)\n",
    "    def distancia(self, estado, final):\n",
    "        return sqrt((estado.latitude - final.latitude)**2 + (estado.longitude - final.longitude)**2)*100000\n",
    "    \n",
    "class Heuristica2(Heuristica):\n",
    "    # Geodesica. (Línea recta + curvatura de la Tierra)\n",
    "    def distancia(self, estado, final):\n",
    "        return geodesic((estado.latitude,estado.longitude), (final.latitude,final.longitude)).meters # La usan en las soluciones. Mas exacta al ser la tierra una elipse\n",
    "    # https://pypi.org/project/geopy/\n",
    "    # https://www.google.com/url?sa=t&source=web&rct=j&opi=89978449&url=https://geopy.readthedocs.io/&ved=2ahUKEwiWq97Su7OJAxUt_7sIHanJI7kQFnoECBYQAQ&usg=AOvVaw01VCwbF-UadfgLzmTCV4Mo\n",
    "\n",
    "class Heuristica3(Heuristica):\n",
    "    # Distancia de Manhattan. Diferencia en latitudes y longitudes.\n",
    "    def distancia(self,estado,final):\n",
    "        return abs(estado.latitude - final.latitude) + abs(estado.longitude - final.longitude)*100000"
   ]
  },
  {
   "cell_type": "markdown",
   "metadata": {},
   "source": [
    "#### 4.3.1 Comparación de heurísticas\n",
    "Entre las tres heurísticas, la que más se aproxima a los resultados dados en clase y la más exacta es la Heuristica2, que usa la distancia geodésica usando cálculos complejos que proporciona el paquete geopy. Para las otras dos heurísticas, al hacer los cálculos con coordenadas tuvimos problemas al pasarlas a metros, ya que dependiendo del lugar la equivalencia puede ir desde 1 hasta 111.000 metros por unidad de longitud-latitud.  Haciendo comparaciones al descubrir la geodesica vimos que al multiplicarlas por 100000 obteniamos un resultado de la misma magnitud que con la geodésica."
   ]
  },
  {
   "cell_type": "markdown",
   "metadata": {},
   "source": [
    "## 5. Inicialización de las clases y determinación de la ruta\n"
   ]
  },
  {
   "cell_type": "code",
   "execution_count": 107,
   "metadata": {},
   "outputs": [],
   "source": [
    "Huge2 = 'problems/huge/calle_herreros_albacete_2000_2.json' \n",
    "Large1 = 'problems/large/calle_agustina_aroca_albacete_1000_2.json' \n",
    "Large2 = 'problems/large/calle_f_albacete_5000_4.json'\n",
    "Large3 = 'problems/large/calle_cardenal_tabera_y_araoz_albacete_1000_3.json'\n",
    "Large4 = 'problems/large/calle_ínsula_barataria_albacete_1000_1.json' \n",
    "Huge1 = 'problems/huge/calle_del_virrey_morcillo_albacete_2000_4.json'\n",
    "Test1 = 'problems/test/test.json'\n",
    "Test2 = 'problems/test/test2.json'\n",
    "Medium1 = 'problems/medium/calle_del_virrey_morcillo_albacete_2000_4.json'\n",
    "Small1 = 'problems/small/calle_del_virrey_morcillo_albacete_250_3.json'\n",
    "Small2 = 'problems/small/calle_franciscanos_albacete_250_0.json' # Sin solucion\n",
    "Small3 = 'problems/small/calle_palmas_de_gran_canaria_albacete_250_4.json' \n",
    "\n",
    "RUTAJSON = Huge1"
   ]
  },
  {
   "cell_type": "markdown",
   "metadata": {},
   "source": [
    "## 5.1 Anchura\n",
    "Algoritmo de anchura"
   ]
  },
  {
   "cell_type": "code",
   "execution_count": 108,
   "metadata": {},
   "outputs": [
    {
     "name": "stdout",
     "output_type": "stream",
     "text": [
      "\n",
      "Anchura:\n",
      "Nodos generados: 929\n",
      "Nodos expandidos: 454\n",
      "Tiempo de ejecución: 0:00:00.001002 segundos\n",
      "Profundidad: 21\n",
      "Coste de la solución: 0:02:26.423399\n",
      "Solución: [1264317316 → 1396810322 (10.54308), 1396810322 → 1396810318 (7.840920000000001), 1396810318 → 1676572117 (0.35544), 1676572117 → 1798146797 (8.40408), 1798146797 → 430169072 (13.175399999999998), 430169072 → 430169076 (6.0226799999999985), 430169076 → 1530815533 (0.4977599999999999), 1530815533 → 344795464 (2.6416799999999996), 344795464 → 2706919026 (0.53568), 2706919026 → 344738924 (2.67204), 344738924 → 344734734 (0.9265199999999999), 344734734 → 1533690235 (3.8270399999999998), 1533690235 → 1530815096 (28.53228), 1530815096 → 1526221518 (5.38896), 1526221518 → 1526257441 (5.44272), 1526257441 → 1530764262 (5.9064), 1530764262 → 1990894635 (12.91296), 1990894635 → 1540051673 (8.349839999999999), 1540051673 → 1674847667 (6.9469199999999995), 1674847667 → 1540051676 (10.98252), 1540051676 → 1526221516 (4.51848)]\n"
     ]
    }
   ],
   "source": [
    "print(\"\\nAnchura:\")\n",
    "anchura = Anchura(Problema(RUTAJSON)).busqueda()"
   ]
  }
 ],
 "metadata": {
  "datalore": {
   "base_environment": "default",
   "computation_mode": "JUPYTER",
   "package_manager": "pip",
   "packages": [
    {
     "name": "pqueue",
     "source": "PIP",
     "version": "0.1.7"
    },
    {
     "name": "geopy",
     "source": "PIP",
     "version": "2.2.0"
    }
   ],
   "version": 1
  },
  "kernelspec": {
   "display_name": "myenv",
   "language": "python",
   "name": "python3"
  },
  "language_info": {
   "codemirror_mode": {
    "name": "ipython",
    "version": 3
   },
   "file_extension": ".py",
   "mimetype": "text/x-python",
   "name": "python",
   "nbconvert_exporter": "python",
   "pygments_lexer": "ipython3",
   "version": "3.12.3"
  },
  "latex_envs": {
   "LaTeX_envs_menu_present": true,
   "autoclose": false,
   "autocomplete": true,
   "bibliofile": "biblio.bib",
   "cite_by": "apalike",
   "current_citInitial": 1,
   "eqLabelWithNumbers": true,
   "eqNumInitial": 1,
   "hotkeys": {
    "equation": "Ctrl-E",
    "itemize": "Ctrl-I"
   },
   "labels_anchors": false,
   "latex_user_defs": false,
   "report_style_numbering": false,
   "user_envs_cfg": false
  }
 },
 "nbformat": 4,
 "nbformat_minor": 4
}
