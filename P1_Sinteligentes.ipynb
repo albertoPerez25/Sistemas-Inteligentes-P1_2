{
 "cells": [
  {
   "cell_type": "markdown",
   "metadata": {},
   "source": [
    "# Sistemas Inteligentes\n",
    "\n",
    "## Curso académico 2024-2025\n",
    "\n",
    "### Práctica 1: Búsqueda en espacio de estados\n",
    "\n",
    "#### Grupo 9\n",
    "\n",
    "* Alberto Pérez Álvarez: alberto.perez25@alu.uclm.es\n",
    "* M: @alu.uclm.es\n"
   ]
  },
  {
   "cell_type": "markdown",
   "metadata": {
    "datalore": {
     "hide_input_from_viewers": false,
     "hide_output_from_viewers": false,
     "node_id": "BJiz7lonyeROocVlcYrKWu",
     "type": "MD"
    }
   },
   "source": [
    "## Estructura de datos\n",
    "Hemos dividido las estructuras de datos en clases, una para cada entidad como se recomienda. Asi tenemos las clases de estructuras básicas Estado, Accion, Problema y Nodo. Además de las básicas, también tenemos las clases Problema, BusquedaNoInformada, BusquedaInformada, Anchura, Profundidad, PrimeroMejor y AEstrella, seguida de otra clase Heuristica para las heuristicas."
   ]
  },
  {
   "cell_type": "markdown",
   "metadata": {},
   "source": [
    "## 0.1 Importaciones\n",
    "Imports necesarios para el código"
   ]
  },
  {
   "cell_type": "code",
   "execution_count": null,
   "metadata": {},
   "outputs": [],
   "source": [
    "#Clases básicas:\n",
    "import json\n",
    "from math import sqrt\n",
    "\n",
    "#Clase búsqueda\n",
    "from abc import ABC, ABCMeta,abstractmethod\n",
    "import time\n",
    "\n",
    "#Clase heurística\n",
    "from math import sqrt\n",
    "\n",
    "# Busqueda Informada\n",
    "from heapq import heappush, heappop # Para la PriorityQueue"
   ]
  },
  {
   "cell_type": "markdown",
   "metadata": {
    "datalore": {
     "hide_input_from_viewers": false,
     "hide_output_from_viewers": false,
     "node_id": "BJiz7lonyeROocVlcYrKWu",
     "type": "MD"
    }
   },
   "source": [
    "## 1. Clases básicas\n",
    "Consideramos básicas las clases Estado, Accion, Problema y Nodo"
   ]
  },
  {
   "cell_type": "markdown",
   "metadata": {},
   "source": [
    "### 1.1. Clase Estado"
   ]
  },
  {
   "cell_type": "code",
   "execution_count": null,
   "metadata": {},
   "outputs": [],
   "source": [
    "class Estado:\n",
    "    def __init__(self, id, latitude, longitude):\n",
    "        self.identifier = id\n",
    "        self.latitude = latitude\n",
    "        self.longitude = longitude\n",
    "    def __str__(self):\n",
    "        return f\"Interseccion: (id={self.identifier}, latitud={self.latitude}, longitud={self.longitude})\"\n",
    "    def __repr__(self):\n",
    "        return f\"{self.identifier}\"\n",
    "\n",
    "    def __eq__(self, otro):\n",
    "        if not isinstance(otro, Estado):\n",
    "            return False\n",
    "        else:\n",
    "            return self.identifier == otro.identifier\n",
    "    def __lt__(self, otro):\n",
    "        return self.identifier < otro.identifier\n",
    "    def esId(self, id):\n",
    "        return self.identifier == id\n"
   ]
  },
  {
   "cell_type": "markdown",
   "metadata": {},
   "source": [
    "### 1.1. Clase Accion"
   ]
  },
  {
   "cell_type": "code",
   "execution_count": null,
   "metadata": {},
   "outputs": [],
   "source": [
    "class Accion:\n",
    "    def __init__(self, origin, destination, distance, speed):\n",
    "        self.origin = origin\n",
    "        self.destination = destination\n",
    "        # Velocidad y distancia están en distinta unidad, aunque no lo digan\n",
    "        self.time = (distance/(speed*(10/36))) \n",
    "        self.distance = distance\n",
    "    def __str__(self):\n",
    "        return f\"Calle: Origen: {self.origin}, Destino: {self.destination}, Distancia: {self.distance}, Velocidad: {self.speed})\"\n",
    "    def __repr__(self):\n",
    "        return f\"{self.origin} → {self.destination} ({self.time})\"\n",
    "    def __eq__(self, otro):\n",
    "        if not isinstance(otro, Accion):\n",
    "            return False\n",
    "        else:\n",
    "            return self.origin == otro.origin and self.destination == otro.destination and self.distance == otro.distance and self.speed == otro.speed\n"
   ]
  },
  {
   "cell_type": "markdown",
   "metadata": {},
   "source": [
    "### 1.3. Clase Problema"
   ]
  },
  {
   "cell_type": "code",
   "execution_count": null,
   "metadata": {},
   "outputs": [],
   "source": [
    "class Problema:   \n",
    "    #Constructor de Problema\n",
    "    def __init__(self,ruta):\n",
    "        with open(ruta, 'r') as file:\n",
    "            self.data = json.load(file)\n",
    "        \n",
    "        self.dic_estados = {}\n",
    "        self.dic_acciones = {}\n",
    "        self.maxSpeed = 0\n",
    "\n",
    "        # Pasamos las intersecciones del JSON a un nuevo diccionario estados\n",
    "        for inter in self.data['intersections']:\n",
    "            self.dic_estados.update({inter['identifier']:Estado(inter['identifier'], inter['latitude'], inter['longitude'])})\n",
    "            self.dic_acciones.update({inter['identifier']:[]})\n",
    "\n",
    "        # Cargamos los nodos iniciales y finales del JSON\n",
    "        self.Inicial = self.dic_estados[self.data[\"initial\"]]\n",
    "        self.Final = self.dic_estados[self.data[\"final\"]]\n",
    "        \n",
    "        # Pasamos los segmentos del JSON a un nuevo diccionario acciones     \n",
    "        for seg in self.data['segments']:\n",
    "            if (seg['speed'] > self.maxSpeed):\n",
    "                self.maxSpeed = seg['speed']\n",
    "            self.dic_acciones[seg['origin']].append(Accion(seg['origin'], seg['destination'], seg['distance'], seg['speed']))\n",
    "            \n",
    "    # Obtener un objeto Estado a partir de su ID\n",
    "    def getEstado(self, id):\n",
    "        return self.dic_estados[id]\n",
    "\n",
    "    # Obtener el destino de una Accion\n",
    "    def getDestinoDe(self,accion):\n",
    "        return self.dic_estados[accion.destination]\n",
    "\n",
    "    # Obtener todas las acciones de un estado a partir de su ID\n",
    "    def getAccionesDe(self,id):\n",
    "        return self.dic_acciones[id]"
   ]
  },
  {
   "cell_type": "markdown",
   "metadata": {},
   "source": [
    "### 1.4. Clase Nodo"
   ]
  },
  {
   "cell_type": "code",
   "execution_count": null,
   "metadata": {},
   "outputs": [],
   "source": [
    "class Nodo:\n",
    "    def __init__(self, interseccion, padre = None, accionTomada = None, coste = 0, profundidad = 0, nGenerado = 0):\n",
    "        self.estado = interseccion\n",
    "        self.padre = padre\n",
    "        self.accion = accionTomada\n",
    "        self.coste = coste\n",
    "        self.profundidad = profundidad\n",
    "        self.nGenerado = nGenerado  # El 1º generado deberia empezar en 1 no en 0, pues dijo en clase que   \n",
    "                                    # se deberia contar pero ellos no lo cuentan en sus soluciones\n",
    "    def __str__(self):\n",
    "        return f\"Nodo(estado={self.estado}, padre={self.padre}, accion={self.accion}, coste={self.coste}, profundidad={self.profundidad})\"\n",
    "    def __repr__(self):\n",
    "        return f\"{self.estado.identifier}\"\n",
    "    def __eq__(self,otro):\n",
    "        if not isinstance(otro, Nodo):\n",
    "            return False\n",
    "        return self.estado.__eq__(otro.estado) and self.nGenerado.__eq__(otro.nGenerado)\n",
    "    def __lt__(self,otro):\n",
    "        return self.estado.__lt__(otro.estado)"
   ]
  },
  {
   "cell_type": "markdown",
   "metadata": {
    "datalore": {
     "hide_input_from_viewers": false,
     "hide_output_from_viewers": false,
     "node_id": "kf129lUYKXkYfl7kIPcDlq",
     "type": "MD"
    }
   },
   "source": [
    "## 2. Clase Busqueda\n",
    "\n",
    "Contiene toda la lógica principal de los algoritmos de busqueda. Es la parte del código común a todos los algoritmos, por lo que es abstracta y faltan por implementar los métodos AñadirNodoAFrontera y ExtraerNodoAFrontera. Estos métodos los implementarán las clases de los tipos de algoritmos pertinentes, que heredarán de esta clase."
   ]
  },
  {
   "cell_type": "markdown",
   "metadata": {
    "datalore": {
     "hide_input_from_viewers": false,
     "hide_output_from_viewers": false,
     "node_id": "6gYL6VoT3okFgLpKvyyAq7",
     "type": "MD"
    }
   },
   "source": [
    "## 3. Algoritmos de búsqueda no informada\n",
    "Para este tipo de algoritmos tenemos una clase abstracta que hereda de Búsqueda e implementa los métodos y estructuras comunes a los dos tipos de algoritmos que tenemos de búsqueda no informada (anchura y profundidad en grafos)."
   ]
  },
  {
   "cell_type": "markdown",
   "metadata": {},
   "source": [
    "### 3.1 Algoritmo de anchura en grafos\n"
   ]
  },
  {
   "cell_type": "markdown",
   "metadata": {},
   "source": [
    "### 3.2 Algoritmo de profundidad en grafos"
   ]
  },
  {
   "cell_type": "markdown",
   "metadata": {
    "datalore": {
     "hide_input_from_viewers": false,
     "hide_output_from_viewers": false,
     "node_id": "XqiqZwKKFJXYVAdvmfoLoK",
     "type": "MD"
    }
   },
   "source": [
    "## 4. Algoritmos de búsqueda informada"
   ]
  },
  {
   "cell_type": "markdown",
   "metadata": {},
   "source": [
    "### 4.1. Primero mejor"
   ]
  },
  {
   "cell_type": "markdown",
   "metadata": {},
   "source": [
    "### 4.2. A*"
   ]
  },
  {
   "cell_type": "markdown",
   "metadata": {},
   "source": [
    "### 4.3. Heuristica\n",
    "Para la heurística tenemos una clase dedicada abstracta que implementa los métodos comunes a ambas heurísticas y otras dos clases que implementan una de las dos heurísticas en concreto, heredando de la clase abstracta. Lo que cambia entre estas dos es simplemente la manera de calcular la distancia, entre calcularla en línea recta usando pitágoras (heurística euclidiana) o calcularla con la distancia de Manhattan."
   ]
  },
  {
   "cell_type": "markdown",
   "metadata": {},
   "source": [
    "## 5. Inicialización de las clases y determinación de la ruta\n"
   ]
  },
  {
   "cell_type": "code",
   "execution_count": null,
   "metadata": {},
   "outputs": [],
   "source": []
  }
 ],
 "metadata": {
  "datalore": {
   "base_environment": "default",
   "computation_mode": "JUPYTER",
   "package_manager": "pip",
   "packages": [
    {
     "name": "pqueue",
     "source": "PIP",
     "version": "0.1.7"
    },
    {
     "name": "geopy",
     "source": "PIP",
     "version": "2.2.0"
    }
   ],
   "version": 1
  },
  "kernelspec": {
   "display_name": "Python 3 (ipykernel)",
   "language": "python",
   "name": "python3"
  },
  "language_info": {
   "codemirror_mode": {
    "name": "ipython",
    "version": 3
   },
   "file_extension": ".py",
   "mimetype": "text/x-python",
   "name": "python",
   "nbconvert_exporter": "python",
   "pygments_lexer": "ipython3",
   "version": "3.8.8"
  },
  "latex_envs": {
   "LaTeX_envs_menu_present": true,
   "autoclose": false,
   "autocomplete": true,
   "bibliofile": "biblio.bib",
   "cite_by": "apalike",
   "current_citInitial": 1,
   "eqLabelWithNumbers": true,
   "eqNumInitial": 1,
   "hotkeys": {
    "equation": "Ctrl-E",
    "itemize": "Ctrl-I"
   },
   "labels_anchors": false,
   "latex_user_defs": false,
   "report_style_numbering": false,
   "user_envs_cfg": false
  },
  "vscode": {
   "interpreter": {
    "hash": "b2fdad1bafe026d053b4602f2179e2296ea0334d2d9ae4e6300a3a67b6dd2231"
   }
  }
 },
 "nbformat": 4,
 "nbformat_minor": 4
}
